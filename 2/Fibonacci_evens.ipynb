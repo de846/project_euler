{
 "cells": [
  {
   "cell_type": "code",
   "execution_count": 48,
   "metadata": {},
   "outputs": [],
   "source": [
    "class Fibber:\n",
    "    def __init__(self): \n",
    "        self.memo = {0: 0, 1: 1}\n",
    "    \n",
    "    def fib(self, term):\n",
    "        if term == 0 or term == 1:\n",
    "            return self.memo[term]\n",
    "        \n",
    "        if not term - 1 in self.memo:\n",
    "            self.memo[term - 1] = self.fib(term - 1)\n",
    "        a = self.memo[term - 1]\n",
    "            \n",
    "        if not term - 2 in self.memo:\n",
    "            self.memo[term - 2] = self.fib(term - 2)\n",
    "        b = self.memo[term - 2]\n",
    "        \n",
    "        self.memo[term] = a + b\n",
    "        return self.memo[term]\n"
   ]
  },
  {
   "cell_type": "code",
   "execution_count": 53,
   "metadata": {},
   "outputs": [
    {
     "name": "stdout",
     "output_type": "stream",
     "text": [
      "4613732\n"
     ]
    }
   ],
   "source": [
    "fib = Fibber()\n",
    "total = 0\n",
    "for i in range(2,10000):\n",
    "    val = fib.fib(i)\n",
    "    if val > 4000000:\n",
    "        break\n",
    "    if val % 2 == 0:\n",
    "        total += val\n",
    "        \n",
    "print(total)\n",
    "\n"
   ]
  }
 ],
 "metadata": {
  "kernelspec": {
   "display_name": "Python 3",
   "language": "python",
   "name": "python3"
  },
  "language_info": {
   "codemirror_mode": {
    "name": "ipython",
    "version": 3
   },
   "file_extension": ".py",
   "mimetype": "text/x-python",
   "name": "python",
   "nbconvert_exporter": "python",
   "pygments_lexer": "ipython3",
   "version": "3.6.6"
  }
 },
 "nbformat": 4,
 "nbformat_minor": 2
}
